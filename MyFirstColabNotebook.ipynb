{
  "nbformat": 4,
  "nbformat_minor": 0,
  "metadata": {
    "colab": {
      "name": "MyFirstColabNotebook.ipynb",
      "provenance": [],
      "authorship_tag": "ABX9TyPIQgQt+ry0TpYHQKDxOmnz",
      "include_colab_link": true
    },
    "kernelspec": {
      "name": "python3",
      "display_name": "Python 3"
    }
  },
  "cells": [
    {
      "cell_type": "markdown",
      "metadata": {
        "id": "view-in-github",
        "colab_type": "text"
      },
      "source": [
        "<a href=\"https://colab.research.google.com/github/ocoyawale/5th-place-solution-Mobile-Money-and-Financial-Inclusion-in-Tanzania-Challenge/blob/master/MyFirstColabNotebook.ipynb\" target=\"_parent\"><img src=\"https://colab.research.google.com/assets/colab-badge.svg\" alt=\"Open In Colab\"/></a>"
      ]
    },
    {
      "cell_type": "code",
      "metadata": {
        "id": "BTmykFy-onId",
        "colab_type": "code",
        "colab": {
          "base_uri": "https://localhost:8080/",
          "height": 34
        },
        "outputId": "dd0cd824-be4f-4416-ab18-1ac73b3457c0"
      },
      "source": [
        "import time\n",
        "print(time.ctime())"
      ],
      "execution_count": 1,
      "outputs": [
        {
          "output_type": "stream",
          "text": [
            "Tue Jul  7 05:24:12 2020\n"
          ],
          "name": "stdout"
        }
      ]
    },
    {
      "cell_type": "code",
      "metadata": {
        "id": "hyciL00hqHjO",
        "colab_type": "code",
        "colab": {
          "base_uri": "https://localhost:8080/",
          "height": 34
        },
        "outputId": "eba0505c-963f-466e-e1c2-dd8c6b0b01eb"
      },
      "source": [
        "time.sleep(5)\n",
        "print(time.ctime())"
      ],
      "execution_count": 2,
      "outputs": [
        {
          "output_type": "stream",
          "text": [
            "Tue Jul  7 05:24:18 2020\n"
          ],
          "name": "stdout"
        }
      ]
    },
    {
      "cell_type": "markdown",
      "metadata": {
        "id": "DRW4K9KXv1WN",
        "colab_type": "text"
      },
      "source": [
        "This is **bold**.\n",
        "This is *italic*.\n",
        "This is ~Strikethrough~."
      ]
    },
    {
      "cell_type": "markdown",
      "metadata": {
        "id": "nRsqjHh6wa64",
        "colab_type": "text"
      },
      "source": [
        "$\\sqrt{3x-1}+(1+x)^2$"
      ]
    },
    {
      "cell_type": "markdown",
      "metadata": {
        "id": "-vUAsc4ZxBYv",
        "colab_type": "text"
      },
      "source": [
        "$e^x=\\sum_{i=0}^\\infty \\frac{1}{i!}x^i$"
      ]
    },
    {
      "cell_type": "markdown",
      "metadata": {
        "id": "gjpLqJOXx7lT",
        "colab_type": "text"
      },
      "source": [
        "Constraints are\n",
        "    - $3x_1 + 6x_2 + x_3 =< 28$\n",
        "    - $7x_1 + 3x_2 + 2x_3 =< 37$\n",
        "    - $4x_1 + 5x_2 + 2x_3 = 19$\n",
        "    - $x_1,x_2,x_3 >=0$\n",
        "\n",
        "The trial vector is  calculated as follows:\n",
        "    - $u_i(t) = x_i(t) + \\beta(\\hat{x}(t) - x_i(t)) +\\beta \\sum_{k = 1}^{n_v}(x_{i1,k}(t) - x_{i2,k}(t))$\n"
      ]
    },
    {
      "cell_type": "markdown",
      "metadata": {
        "id": "APv4DsOZ11qP",
        "colab_type": "text"
      },
      "source": [
        ""
      ]
    }
  ]
}